{
 "cells": [
  {
   "cell_type": "code",
   "execution_count": null,
   "id": "equivalent-richards",
   "metadata": {},
   "outputs": [],
   "source": [
    "# testing\n",
    "\n",
    "# tests for getMarketData\n",
    "\n",
    "# len(my_list) == len(set(my_list))  # if true, the set has only unique values"
   ]
  },
  {
   "cell_type": "code",
   "execution_count": null,
   "id": "numeric-convertible",
   "metadata": {},
   "outputs": [],
   "source": [
    "import requests\n",
    "import string \n",
    "import pandas as pd\n",
    "import time"
   ]
  },
  {
   "cell_type": "code",
   "execution_count": null,
   "id": "every-chess",
   "metadata": {},
   "outputs": [],
   "source": [
    "# int -> response\n",
    "# returns the web response from the PI API\n",
    "def getMarketRespose(market_id):\n",
    "    api_url = \"https://www.predictit.org/api/marketdata/markets/\"\n",
    "    joined_url = api_url + str(market_id)\n",
    "    \n",
    "    response = requests.get(joined_url)  # fetch market data\n",
    "    if(\"null\" == response.text):\n",
    "        print(\"Bad predictItID -- No market with that ID\")\n",
    "    return response"
   ]
  },
  {
   "cell_type": "code",
   "execution_count": null,
   "id": "quiet-panama",
   "metadata": {},
   "outputs": [],
   "source": [
    "# None -> list\n",
    "# returns a list of all open markets \n",
    "def getAllOpenMarketIDs():\n",
    "    # commenting out so I'm not spamming the API\n",
    "    # api_url = \"https://www.predictit.org/api/marketdata/all/\"\n",
    "    # \n",
    "    # response = requests.get(api_url)  # fetch market data\n",
    "    if(response.status_code != 200):\n",
    "        print(\"Please wait...\")\n",
    "        time.sleep(3)\n",
    "        print(\"Please try again now. If this issue persists, the API access may have changed.\")\n",
    "\n",
    "    xml_response = response.json()\n",
    "    all_markets_df = pd.DataFrame.from_dict(xml_response)\n",
    "\n",
    "\n",
    "    market_id_list = []  \n",
    "    \n",
    "    for market_index in range(len(all_markets_df)):\n",
    "        # print(all_markets_df[\"markets\"][market_index][\"id\"])\n",
    "        market_id = all_markets_df[\"markets\"][market_index][\"id\"]\n",
    "        market_id_list.append(market_id)\n",
    "\n",
    "    return market_id_list"
   ]
  },
  {
   "cell_type": "code",
   "execution_count": null,
   "id": "human-chart",
   "metadata": {},
   "outputs": [],
   "source": [
    "# TODO: change to reference the all dataframe so I'm not making a ton of requests\n",
    "# 2.7 kB individual market vs 453 kB for all \n",
    "# int -> dataframe\n",
    "def getMarketDataFrame(market_id):\n",
    "    response = getMarketRespose(market_id)  \n",
    "    xml_response = response.json()\n",
    "    \n",
    "    market_df = pd.DataFrame.from_dict(xml_response)\n",
    "    return market_df"
   ]
  },
  {
   "cell_type": "code",
   "execution_count": null,
   "id": "brutal-marketing",
   "metadata": {},
   "outputs": [],
   "source": [
    "# int -> print data \n",
    "def printMarketData(market_id):\n",
    "    # market_df = getMarketDataFrame(market_id)  # whole market, including \n",
    "    \n",
    "    try:\n",
    "        print(\"Market:\\t\", market_df[\"shortName\"][0])  # every market has a shortname\n",
    "    except KeyError:\n",
    "        print(\"That market doesn't have a key \\\"shortName\\\"\")\n",
    "        return\n",
    "    tabspacing = \"\\t\\t\"\n",
    "    print(\"name\", tabspacing, \"Last Close Price\")\n",
    "    \n",
    "    \n",
    "    for contract_index in range(0, len(market_df)):\n",
    "        all_contracts = market_df[\"contracts\"][contract_index]\n",
    "        print(all_contracts[\"name\"], end=tabspacing)\n",
    "        print(all_contracts[\"lastClosePrice\"], end=\"\\t\")\n",
    "        print()  # newline\n"
   ]
  },
  {
   "cell_type": "code",
   "execution_count": null,
   "id": "crucial-proposal",
   "metadata": {},
   "outputs": [],
   "source": [
    "\n",
    "# int -> print data \n",
    "def getBetterMarketDF(market_id):\n",
    "    market_df = getMarketDataFrame(market_id)  # whole market, including \n",
    "    \n",
    "    try:\n",
    "        print(\"Market:\\t\", market_df[\"shortName\"][0])\n",
    "    except KeyError:\n",
    "        print(\"That market doesn't have a key \\\"shortName\\\"\")\n",
    "        return\n",
    "    tabspacing = \"\\t\\t\"\n",
    "    print(\"name\", tabspacing, \"Last Close Price\")\n",
    "    \n",
    "    \n",
    "    for contract_index in range(0, len(market_df)):\n",
    "        all_contracts = market_df[\"contracts\"][contract_index]\n",
    "        print(all_contracts[\"name\"], end=tabspacing)\n",
    "        print(all_contracts[\"lastClosePrice\"], end=\"\\t\")\n",
    "        print()  # newline\n",
    "\n",
    "\n",
    "\n",
    "\n",
    "\n"
   ]
  },
  {
   "cell_type": "code",
   "execution_count": null,
   "id": "awful-speed",
   "metadata": {},
   "outputs": [],
   "source": [
    "# TODO: use OOP to make this look better\n",
    "\n",
    "# give market id and list of desired parameters for a particular market, return that data\n",
    "def getMarketData(market_id, lst=[\"name\", \"lastClosePrice\"]):\n",
    "    \n",
    "    # HC \n",
    "    market_id = MKT_ID = 7040   # chancellor of germany\n",
    "\n",
    "    market_df = getMarketDataFrame(market_id)  # whole market, including \n",
    "\n",
    "    try:\n",
    "        print(\"Market:\\t\", market_df[\"shortName\"][0])\n",
    "    except KeyError:\n",
    "        print(\"That market doesn't have a key \\\"shortName\\\"\")\n",
    "\n",
    "\n",
    "    # I should be making these as classes with objects\n",
    "\n",
    "    # market_id       = market_df['id']  # redundant\n",
    "    market_name       = market_df['name']\n",
    "    market_shortName       = market_df['shortName']\n",
    "    market_image       = market_df['image']\n",
    "    market_url       = market_df['url']\n",
    "    market_contracts       = market_df['contracts']\n",
    "    market_timeStamp       = market_df['timeStamp']\n",
    "    market_status       = market_df['status']\n",
    "\n",
    "    # begin specific contract data -- i.e. the most relevant info\n",
    "    contract_data = market_df[\"contracts\"][contract_index]\n",
    "\n",
    "    contract_id = contract_data[\"id\"]  # note, this is not the same as the market id\n",
    "    contract_dateEnd = contract_data[\"dateEnd\"]\n",
    "    contract_image =            contract_data[\"image\"]\n",
    "    contract_name =             contract_data[\"name\"]\n",
    "    contract_shortName =        contract_data[\"shortName\"]\n",
    "    contract_status =           contract_data[\"status\"]\n",
    "    contract_lastTradePrice =   contract_data[\"lastTradePrice\"]\n",
    "    contract_bestBuyYesCost =   contract_data[\"bestBuyYesCost\"]\n",
    "    contract_bestBuyNoCost =    contract_data[\"bestBuyNoCost\"]\n",
    "    contract_bestSellYesCost =  contract_data[\"bestSellYesCost\"]\n",
    "    contract_bestSellNoCost =   contract_data[\"bestSellNoCost\"]\n",
    "    contract_lastClosePrice =   contract_data[\"lastClosePrice\"]\n",
    "    contract_displayOrder  =    contract_data[\"displayOrder\"]\n",
    "    \n",
    "    \n",
    "    return \"I need to make this as an object so I can easily reference a list\""
   ]
  },
  {
   "cell_type": "code",
   "execution_count": null,
   "id": "paperback-adapter",
   "metadata": {
    "jupyter": {
     "source_hidden": true
    }
   },
   "outputs": [],
   "source": [
    "market_id = MKT_ID = 7040   # chancellor of germany\n",
    "\n",
    "    market_df = getMarketDataFrame(market_id)  # whole market, including \n",
    "\n",
    "    try:\n",
    "        print(\"Market:\\t\", market_df[\"shortName\"][0])\n",
    "    except KeyError:\n",
    "        print(\"That market doesn't have a key \\\"shortName\\\"\")\n",
    "\n",
    "\n",
    "    # I should be making these as classes with objects\n",
    "\n",
    "    # market_id       = market_df['id']  # redundant\n",
    "    market_name       = market_df['name']\n",
    "    market_shortName       = market_df['shortName']\n",
    "    market_image       = market_df['image']\n",
    "    market_url       = market_df['url']\n",
    "    market_contracts       = market_df['contracts']\n",
    "    market_timeStamp       = market_df['timeStamp']\n",
    "    market_status       = market_df['status']\n",
    "\n",
    "    # begin specific contract data -- i.e. the most relevant info\n",
    "    contract_data = market_df[\"contracts\"][contract_index]\n",
    "\n",
    "\n",
    "def getContractDF(market_id, contract_position):\n",
    "    contract_id = contract_data[\"id\"]  # note, this is not the same as the market id\n",
    "    contract_dateEnd = contract_data[\"dateEnd\"]\n",
    "    contract_image =            contract_data[\"image\"]\n",
    "    contract_name =             contract_data[\"name\"]\n",
    "    contract_shortName =        contract_data[\"shortName\"]\n",
    "    contract_status =           contract_data[\"status\"]\n",
    "    contract_lastTradePrice =   contract_data[\"lastTradePrice\"]\n",
    "    contract_bestBuyYesCost =   contract_data[\"bestBuyYesCost\"]\n",
    "    contract_bestBuyNoCost =    contract_data[\"bestBuyNoCost\"]\n",
    "    contract_bestSellYesCost =  contract_data[\"bestSellYesCost\"]\n",
    "    contract_bestSellNoCost =   contract_data[\"bestSellNoCost\"]\n",
    "    contract_lastClosePrice =   contract_data[\"lastClosePrice\"]\n",
    "    contract_displayOrder  =    contract_data[\"displayOrder\"]\n",
    "\n",
    "    \n",
    "    #simple_df = \n"
   ]
  },
  {
   "cell_type": "code",
   "execution_count": null,
   "id": "casual-bacon",
   "metadata": {},
   "outputs": [],
   "source": []
  },
  {
   "cell_type": "code",
   "execution_count": null,
   "id": "ignored-montreal",
   "metadata": {},
   "outputs": [],
   "source": []
  },
  {
   "cell_type": "code",
   "execution_count": null,
   "id": "strong-macedonia",
   "metadata": {},
   "outputs": [],
   "source": []
  },
  {
   "cell_type": "code",
   "execution_count": null,
   "id": "complex-worthy",
   "metadata": {},
   "outputs": [],
   "source": []
  },
  {
   "cell_type": "code",
   "execution_count": null,
   "id": "familiar-ecuador",
   "metadata": {},
   "outputs": [],
   "source": []
  },
  {
   "cell_type": "code",
   "execution_count": null,
   "id": "liable-writer",
   "metadata": {},
   "outputs": [],
   "source": [
    "# TODO? image grabbing function\n",
    "# from PIL import Image\n",
    "# url = market_df[\"image\"][0]\n",
    "# im = Image.open(requests.get(url, stream=True).raw)\n"
   ]
  },
  {
   "cell_type": "code",
   "execution_count": null,
   "id": "disabled-consumption",
   "metadata": {},
   "outputs": [],
   "source": []
  },
  {
   "cell_type": "code",
   "execution_count": null,
   "id": "efficient-casino",
   "metadata": {},
   "outputs": [],
   "source": []
  },
  {
   "cell_type": "code",
   "execution_count": null,
   "id": "hired-latino",
   "metadata": {
    "jupyter": {
     "source_hidden": true
    }
   },
   "outputs": [],
   "source": [
    "# None -> list\n",
    "# returns a list of all open markets \n",
    "def getAllMarketID():\n",
    "    xml_response = response.json()\n",
    "    all_markets_df = pd.DataFrame.from_dict(xml_response)\n",
    "\n",
    "    market_id_list = []  \n",
    "\n",
    "    for market_index in range(len(all_markets_df)):\n",
    "        # print(all_markets_df[\"markets\"][market_index][\"id\"])\n",
    "        market_id = all_markets_df[\"markets\"][market_index][\"id\"]\n",
    "        market_id_list.append(market_id)\n",
    "        \n",
    "    return market_id_list"
   ]
  },
  {
   "cell_type": "code",
   "execution_count": null,
   "id": "median-banana",
   "metadata": {},
   "outputs": [],
   "source": [
    "# request data for entire market \n",
    "# None -> response\n",
    "def getAllMarketsResponse():\n",
    "    api_url = \"https://www.predictit.org/api/marketdata/all/\"\n",
    "    response = requests.get(api_url)  # fetch market data\n",
    "    if(response.status_code != 200):\n",
    "        print(\"Please wait for API cooldown\")\n",
    "        \n",
    "        for second in  list(range(10))[::-1]:\n",
    "            time.sleep(1)\n",
    "            print(second)\n",
    "        print(\"Please try again now. If the issue persists, API access may have changed.\")\n",
    "        return None\n",
    "    return response"
   ]
  },
  {
   "cell_type": "code",
   "execution_count": null,
   "id": "positive-installation",
   "metadata": {},
   "outputs": [],
   "source": [
    "# None -> list of all the open markets\n",
    "def getAllMarketsList():\n",
    "    all_markets_response = getAllMarketsResponse()\n",
    "    return all_markets_response.json()[\"markets\"]"
   ]
  },
  {
   "cell_type": "code",
   "execution_count": null,
   "id": "periodic-lighting",
   "metadata": {},
   "outputs": [],
   "source": []
  },
  {
   "cell_type": "code",
   "execution_count": null,
   "id": "spoken-chamber",
   "metadata": {},
   "outputs": [],
   "source": []
  },
  {
   "cell_type": "code",
   "execution_count": null,
   "id": "outer-guyana",
   "metadata": {},
   "outputs": [],
   "source": []
  },
  {
   "cell_type": "code",
   "execution_count": null,
   "id": "conventional-dispatch",
   "metadata": {},
   "outputs": [],
   "source": [
    "\n",
    "my_list = getAllMarketsList()\n",
    "my_list[0]"
   ]
  },
  {
   "cell_type": "code",
   "execution_count": null,
   "id": "cutting-grenada",
   "metadata": {},
   "outputs": [],
   "source": []
  },
  {
   "cell_type": "code",
   "execution_count": null,
   "id": "sensitive-custom",
   "metadata": {},
   "outputs": [],
   "source": [
    "def getContractsDataFrameFromIndex( mkt_index):\n",
    "    all_markets_list = getAllMarketsList()\n",
    "    # this references the first market in the list of all markets\n",
    "    market_df = pd.DataFrame.from_dict(all_markets_list[ mkt_index ][\"contracts\"])\n",
    "    return market_df\n",
    "\n",
    "# TODO \n",
    "def getContractsDataFrame( mkt_id):\n",
    "     # use the mkt_id to find the market index\n",
    "    all_market_list = getAllMarketsList()\n",
    "    \n",
    "    \n",
    "    getContractsDataFrameFromIndex[ mkt_index]\n",
    "    return market_df\n",
    "\n",
    "def concatMarketString(string):\n",
    "    return \"market\"+string.capitalize()\n",
    "\n",
    "# append \"market\" in front of each column in a dataframe if it doesn't already have the label\n",
    "def labelMarket(df) -> pd.DataFrame:\n",
    "    if(market_df.columns[0][0:6] == \"market\"):  # if marketId is already labeled, they're every column is already labeled (hopefully)\n",
    "        return df\n",
    "    else:\n",
    "        return df.rename(concatMarketString, axis=\"columns\")\n",
    "\n",
    "# \"\"\"\n",
    "# TODO\n",
    "# [ ] prepend the general market data frame with the contract specific dataframe\n",
    "# [ ] look at sensible plotting options. Format data in a way that's ammenable to those options\n",
    "# [ ] make csv saving job so that I don't need to worry about \n",
    "# \"\"\"\n"
   ]
  },
  {
   "cell_type": "code",
   "execution_count": null,
   "id": "foster-receptor",
   "metadata": {},
   "outputs": [],
   "source": [
    "\n",
    "def getIdIndexList( market_data=False):\n",
    "    id_index_list = []  # \n",
    "    if market_data is False:\n",
    "        market_data = getAllMarketsList()\n",
    "    \n",
    "    for mkt_index in range(len(all_markets)):\n",
    "        id_index_list.append(market_data[mkt_index][\"id\"])\n",
    "        # print(id_index_list)\n",
    "    return id_index_list\n",
    "\n",
    "listy = getIdIndexList(market_data=all_markets)\n"
   ]
  },
  {
   "cell_type": "code",
   "execution_count": null,
   "id": "headed-potato",
   "metadata": {},
   "outputs": [],
   "source": [
    "lst1 = getIdIndexList() \n",
    "lst2 = getAllMarketsList()\n",
    "\n"
   ]
  },
  {
   "cell_type": "code",
   "execution_count": null,
   "id": "prompt-match",
   "metadata": {},
   "outputs": [],
   "source": []
  },
  {
   "cell_type": "code",
   "execution_count": null,
   "id": "desirable-study",
   "metadata": {},
   "outputs": [],
   "source": []
  }
 ],
 "metadata": {
  "kernelspec": {
   "display_name": "Python 3",
   "language": "python",
   "name": "python3"
  },
  "language_info": {
   "codemirror_mode": {
    "name": "ipython",
    "version": 3
   },
   "file_extension": ".py",
   "mimetype": "text/x-python",
   "name": "python",
   "nbconvert_exporter": "python",
   "pygments_lexer": "ipython3",
   "version": "3.8.0"
  }
 },
 "nbformat": 4,
 "nbformat_minor": 5
}
